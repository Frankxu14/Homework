{
 "cells": [
  {
   "cell_type": "code",
   "execution_count": null,
   "metadata": {},
   "outputs": [],
   "source": [
    "# San Francisco Rental Prices Dashboard\n",
    "# Frank XU"
   ]
  },
  {
   "cell_type": "code",
   "execution_count": 18,
   "metadata": {},
   "outputs": [],
   "source": [
    "# imports\n",
    "import panel as pn\n",
    "pn.extension('plotly')\n",
    "import plotly.express as px\n",
    "import pandas as pd\n",
    "import hvplot.pandas\n",
    "import matplotlib.pyplot as plt\n",
    "import os\n",
    "from pathlib import Path\n",
    "from dotenv import load_dotenv"
   ]
  },
  {
   "cell_type": "code",
   "execution_count": 19,
   "metadata": {},
   "outputs": [],
   "source": [
    "# Read the Mapbox API key\n",
    "load_dotenv()\n",
    "mapbox_token=os.getenv(\"MAPBOX_API_KEY\")\n",
    "mapbox_token=\"pk.eyJ1IjoiZnJhbmt4dTE0IiwiYSI6ImNrZ2xkMjA4ZjAyZmIyeGxmZHhmNnkzOTIifQ.Yms3SjtbYK_V_RAhw6HtIg\"\n",
    "px.set_mapbox_access_token(mapbox_token)"
   ]
  },
  {
   "cell_type": "code",
   "execution_count": 20,
   "metadata": {},
   "outputs": [],
   "source": [
    "# Import Data"
   ]
  },
  {
   "cell_type": "code",
   "execution_count": 21,
   "metadata": {},
   "outputs": [],
   "source": [
    "# Import the CSVs to Pandas DataFrames\n",
    "file_path=Path(\"Data/sfo_neighborhoods_census_data.csv\")\n",
    "sfo_data=pd.read_csv(file_path, index_col=\"year\")"
   ]
  },
  {
   "cell_type": "code",
   "execution_count": 22,
   "metadata": {},
   "outputs": [
    {
     "data": {
      "text/html": [
       "<div>\n",
       "<style scoped>\n",
       "    .dataframe tbody tr th:only-of-type {\n",
       "        vertical-align: middle;\n",
       "    }\n",
       "\n",
       "    .dataframe tbody tr th {\n",
       "        vertical-align: top;\n",
       "    }\n",
       "\n",
       "    .dataframe thead th {\n",
       "        text-align: right;\n",
       "    }\n",
       "</style>\n",
       "<table border=\"1\" class=\"dataframe\">\n",
       "  <thead>\n",
       "    <tr style=\"text-align: right;\">\n",
       "      <th></th>\n",
       "      <th>neighborhood</th>\n",
       "      <th>sale_price_sqr_foot</th>\n",
       "      <th>housing_units</th>\n",
       "      <th>gross_rent</th>\n",
       "    </tr>\n",
       "    <tr>\n",
       "      <th>year</th>\n",
       "      <th></th>\n",
       "      <th></th>\n",
       "      <th></th>\n",
       "      <th></th>\n",
       "    </tr>\n",
       "  </thead>\n",
       "  <tbody>\n",
       "    <tr>\n",
       "      <th>2010</th>\n",
       "      <td>Alamo Square</td>\n",
       "      <td>291.182945</td>\n",
       "      <td>372560</td>\n",
       "      <td>1239</td>\n",
       "    </tr>\n",
       "    <tr>\n",
       "      <th>2010</th>\n",
       "      <td>Anza Vista</td>\n",
       "      <td>267.932583</td>\n",
       "      <td>372560</td>\n",
       "      <td>1239</td>\n",
       "    </tr>\n",
       "    <tr>\n",
       "      <th>2010</th>\n",
       "      <td>Bayview</td>\n",
       "      <td>170.098665</td>\n",
       "      <td>372560</td>\n",
       "      <td>1239</td>\n",
       "    </tr>\n",
       "    <tr>\n",
       "      <th>2010</th>\n",
       "      <td>Buena Vista Park</td>\n",
       "      <td>347.394919</td>\n",
       "      <td>372560</td>\n",
       "      <td>1239</td>\n",
       "    </tr>\n",
       "    <tr>\n",
       "      <th>2010</th>\n",
       "      <td>Central Richmond</td>\n",
       "      <td>319.027623</td>\n",
       "      <td>372560</td>\n",
       "      <td>1239</td>\n",
       "    </tr>\n",
       "  </tbody>\n",
       "</table>\n",
       "</div>"
      ],
      "text/plain": [
       "          neighborhood  sale_price_sqr_foot  housing_units  gross_rent\n",
       "year                                                                  \n",
       "2010      Alamo Square           291.182945         372560        1239\n",
       "2010        Anza Vista           267.932583         372560        1239\n",
       "2010           Bayview           170.098665         372560        1239\n",
       "2010  Buena Vista Park           347.394919         372560        1239\n",
       "2010  Central Richmond           319.027623         372560        1239"
      ]
     },
     "execution_count": 22,
     "metadata": {},
     "output_type": "execute_result"
    }
   ],
   "source": [
    "sfo_data.head()"
   ]
  },
  {
   "cell_type": "code",
   "execution_count": 23,
   "metadata": {},
   "outputs": [],
   "source": [
    "file_path=Path(\"Data/neighborhoods_coordinates.csv\")\n",
    "df_neighborhood_locations=pd.read_csv(file_path)"
   ]
  },
  {
   "cell_type": "code",
   "execution_count": 24,
   "metadata": {},
   "outputs": [],
   "source": [
    "# PANEL VISUALIZATIONS"
   ]
  },
  {
   "cell_type": "code",
   "execution_count": 25,
   "metadata": {},
   "outputs": [],
   "source": [
    "# Define Panel Visualization Functions\n",
    "def housing_units_per_year():\n",
    "    df_avg_housings=sfo_data[\"housing_units\"].groupby(sfo_data.index).mean()\n",
    "    sfo_plot=df_avg_housings.plot.bar()\n",
    "    sfo_plot.set_xlabel(\"Year\")\n",
    "    sfo_plot.set_ylabel(\"Housing Units\")\n",
    "    sfo_plot.set_title(\"Housing Units in San Francisco 2010-2016\", fontweight=\"bold\", fontsize=12)\n",
    "    min_unit=min(df_avg_housings)\n",
    "    max_unit=max(df_avg_housings)\n",
    "    std_unit=df_avg_housings.std()\n",
    "    sfo_plot.set_ylim(min_unit-std_unit, max_unit+std_unit)\n",
    "    \n",
    "    return sfo_plot"
   ]
  },
  {
   "cell_type": "code",
   "execution_count": 26,
   "metadata": {},
   "outputs": [],
   "source": [
    "def average_gross_rent():\n",
    "    \"\"\"Average Gross Rent in San Francisco Per Year.\"\"\"\n",
    "    sfo_housing_avg=sfo_data.groupby('year').mean()\n",
    "    sfo_housing_avg[[\"sale_price_sqr_foot\", \"gross_rent\"]]\n",
    "    sfo_housing_avg=sfo_data.groupby('year').mean()\n",
    "    sfo_housing_avg[[\"sale_price_sqr_foot\", \"gross_rent\"]]\n",
    "    plot_housing_avg=sfo_housing_avg[\"gross_rent\"].hvplot(figsize=(10,10), title=\"Average Gross Rent In San Francisco\")\n",
    "\n",
    "    return plot_housing_avg"
   ]
  },
  {
   "cell_type": "code",
   "execution_count": 27,
   "metadata": {},
   "outputs": [],
   "source": [
    "def average_sales_price():\n",
    "    \"\"\"Average Sales Price Per Year.\"\"\"\n",
    "    sfo_housing_avg=sfo_data.groupby('year').mean()\n",
    "    sfo_housing_avg[[\"sale_price_sqr_foot\", \"gross_rent\"]]\n",
    "    plot_avg_sale_price=sfo_housing_avg[\"sale_price_sqr_foot\"].hvplot(figsize=(10,10), title=\"Average Sale Price per Square Foot In San Francisco\")\n",
    "\n",
    "    return plot_avg_sale_price"
   ]
  },
  {
   "cell_type": "code",
   "execution_count": 28,
   "metadata": {},
   "outputs": [],
   "source": [
    "def average_price_by_neighborhood():\n",
    "    \"\"\"Average Prices by Neighborhood.\"\"\"\n",
    "    df_cost=sfo_data.groupby([sfo_data.index, \"neighborhood\"]).mean()\n",
    "    df_cost.reset_index(inplace=True)\n",
    "    df_cost=sfo_data.groupby([sfo_data.index, \"neighborhood\"]).mean()\n",
    "    df_cost.reset_index(inplace=True)\n",
    "    df_cost_plot=df_cost.hvplot(x=\"year\", y=\"sale_price_sqr_foot\", groupby=\"neighborhood\", kind=\"line\")\n",
    "\n",
    "        \n",
    "    return df_cost_plot"
   ]
  },
  {
   "cell_type": "code",
   "execution_count": 29,
   "metadata": {},
   "outputs": [],
   "source": [
    "def top_most_expensive_neighborhoods():\n",
    "    \"\"\"Top 10 Most Expensive Neighborhoods.\"\"\"\n",
    "    top10=sfo_data.groupby('neighborhood').mean()\n",
    "    top10=top10.sort_values(by=\"sale_price_sqr_foot\", ascending=False)\n",
    "    top10=top10[:9]\n",
    "    top10.reset_index(inplace=True)\n",
    "\n",
    "    plot_top10=top10[\"sale_price_sqr_foot\"].hvplot.bar(\n",
    "        title=\"Top 10 Neighborhood In San Francisco\", \n",
    "        xlabel=\"SFO Neighborhood\",\n",
    "        ylabel=\"Sale Price Per Sq Foot\")\n",
    "   \n",
    "    return plot_top10"
   ]
  },
  {
   "cell_type": "code",
   "execution_count": 30,
   "metadata": {},
   "outputs": [],
   "source": [
    "def parallel_coordinates():\n",
    "    \"\"\"Parallel Coordinates Plot.\"\"\"\n",
    "    par_1=px.parallel_coordinates(top10, color='sale_price_sqr_foot')\n",
    "    \n",
    "    return par_1\n",
    "\n",
    "def parallel_categories():\n",
    "    \"\"\"Parallel Categories Plot.\"\"\"\n",
    "    \n",
    "    par_2=px.parallel_categories(\n",
    "    top10,\n",
    "    dimensions=[\"neighborhood\", \"housing_units\", \"gross_rent\"],\n",
    "    color=\"sale_price_sqr_foot\",\n",
    "    color_continuous_scale=px.colors.sequential.Inferno,\n",
    "    labels={\n",
    "        \"neighborhood\": \"SFO Neighborhood\",\n",
    "        \"housing_units\": \"Number of Housing Units\",\n",
    "        \"gross_rent\": \"Gross Rent\",})\n",
    "\n",
    "    return par_2\n",
    "\n",
    "def neighborhood_map():\n",
    "    \"\"\"Neighborhood Map\"\"\"\n",
    "    file_path = Path(\"Data/neighborhoods_coordinates.csv\")\n",
    "    df_neighborhood_locations = pd.read_csv(file_path)\n",
    "    df_neighborhood_locations.head()\n",
    "    \n",
    "    df_neighborhood_values=sfo_data.groupby('neighborhood').mean()\n",
    "    df_neighborhood_values.reset_index(inplace=True)\n",
    "    df_neighborhood_values.head()\n",
    "    sfo_neighborhood_values=pd.concat([df_neighborhood_locations, df_neighborhood_values], axis=\"columns\", join=\"inner\")\n",
    "    sfo_neighborhood_values.head()\n",
    "\n",
    "    map=px.scatter_mapbox(\n",
    "    sfo_neighborhood_values,\n",
    "    lat=\"Lat\",\n",
    "    lon=\"Lon\",\n",
    "    size=\"sale_price_sqr_foot\",\n",
    "    color=\"neighborhood\",\n",
    "    zoom=4)\n",
    "\n",
    "    return map"
   ]
  },
  {
   "cell_type": "code",
   "execution_count": 31,
   "metadata": {},
   "outputs": [],
   "source": [
    "# Panel Dashboard"
   ]
  },
  {
   "cell_type": "code",
   "execution_count": 15,
   "metadata": {},
   "outputs": [
    {
     "ename": "NameError",
     "evalue": "name 'top10' is not defined",
     "output_type": "error",
     "traceback": [
      "\u001b[0;31m---------------------------------------------------------------------------\u001b[0m",
      "\u001b[0;31mNameError\u001b[0m                                 Traceback (most recent call last)",
      "\u001b[0;32m<ipython-input-15-77d74b1d22df>\u001b[0m in \u001b[0;36m<module>\u001b[0;34m\u001b[0m\n\u001b[1;32m      8\u001b[0m \u001b[0;34m\u001b[0m\u001b[0m\n\u001b[1;32m      9\u001b[0m sfo_neighborhood_map=pn.Column(\"San Francisco Neighborhood Map\", \n\u001b[0;32m---> 10\u001b[0;31m                                parallel_coordinates(), parallel_categories(), neighborhood_map())\n\u001b[0m\u001b[1;32m     11\u001b[0m \u001b[0;34m\u001b[0m\u001b[0m\n\u001b[1;32m     12\u001b[0m sfo_dashboard=pn.Tabs(\n",
      "\u001b[0;32m<ipython-input-13-2b7ab942b5f1>\u001b[0m in \u001b[0;36mparallel_coordinates\u001b[0;34m()\u001b[0m\n\u001b[1;32m      1\u001b[0m \u001b[0;32mdef\u001b[0m \u001b[0mparallel_coordinates\u001b[0m\u001b[0;34m(\u001b[0m\u001b[0;34m)\u001b[0m\u001b[0;34m:\u001b[0m\u001b[0;34m\u001b[0m\u001b[0;34m\u001b[0m\u001b[0m\n\u001b[1;32m      2\u001b[0m     \u001b[0;34m\"\"\"Parallel Coordinates Plot.\"\"\"\u001b[0m\u001b[0;34m\u001b[0m\u001b[0;34m\u001b[0m\u001b[0m\n\u001b[0;32m----> 3\u001b[0;31m     \u001b[0mpar_1\u001b[0m\u001b[0;34m=\u001b[0m\u001b[0mpx\u001b[0m\u001b[0;34m.\u001b[0m\u001b[0mparallel_coordinates\u001b[0m\u001b[0;34m(\u001b[0m\u001b[0mtop10\u001b[0m\u001b[0;34m,\u001b[0m \u001b[0mcolor\u001b[0m\u001b[0;34m=\u001b[0m\u001b[0;34m'sale_price_sqr_foot'\u001b[0m\u001b[0;34m)\u001b[0m\u001b[0;34m\u001b[0m\u001b[0;34m\u001b[0m\u001b[0m\n\u001b[0m\u001b[1;32m      4\u001b[0m \u001b[0;34m\u001b[0m\u001b[0m\n\u001b[1;32m      5\u001b[0m     \u001b[0;32mreturn\u001b[0m \u001b[0mpar_1\u001b[0m\u001b[0;34m\u001b[0m\u001b[0;34m\u001b[0m\u001b[0m\n",
      "\u001b[0;31mNameError\u001b[0m: name 'top10' is not defined"
     ]
    },
    {
     "data": {
      "image/png": "[encoded data removed]",
      "text/plain": [
       "<Figure size 432x288 with 1 Axes>"
      ]
     },
     "metadata": {
      "needs_background": "light"
     },
     "output_type": "display_data"
    }
   ],
   "source": [
    "sfo_housing_mkt=pn.Column(\"San Francisco Housing Market\",\n",
    "                          housing_units_per_year(),\n",
    "                          average_gross_rent(),\n",
    "                          average_sales_price())\n",
    "\n",
    "sfo_neighborhood_price=pn.Column(\"San Francisco Average & Top Neighborhoods\",\n",
    "                                average_price_by_neighborhood(), top_most_expensive_neighborhoods())\n",
    "\n",
    "sfo_neighborhood_map=pn.Column(\"San Francisco Neighborhood Map\", \n",
    "                               parallel_coordinates(), parallel_categories(), neighborhood_map())\n",
    "\n",
    "sfo_dashboard=pn.Tabs(\n",
    "    (\"San Francisco Housing Market\", sfo_housing_mkt),\n",
    "    (\"San Francisco Average and Top Neighborhood\", sfo_neighborhood_price),\n",
    "    (\"SFO Neighborhood Maps\", sfo_neighborhood_map))\n",
    "\n",
    "sfo_dashboard"
   ]
  },
  {
   "cell_type": "code",
   "execution_count": 16,
   "metadata": {},
   "outputs": [],
   "source": [
    "# Serve the Panel Dashboard"
   ]
  },
  {
   "cell_type": "code",
   "execution_count": 17,
   "metadata": {},
   "outputs": [
    {
     "ename": "NameError",
     "evalue": "name 'sfo_dashboard' is not defined",
     "output_type": "error",
     "traceback": [
      "\u001b[0;31m---------------------------------------------------------------------------\u001b[0m",
      "\u001b[0;31mNameError\u001b[0m                                 Traceback (most recent call last)",
      "\u001b[0;32m<ipython-input-17-7a3816ddacd2>\u001b[0m in \u001b[0;36m<module>\u001b[0;34m\u001b[0m\n\u001b[0;32m----> 1\u001b[0;31m \u001b[0msfo_dashboard\u001b[0m\u001b[0;34m.\u001b[0m\u001b[0mservable\u001b[0m\u001b[0;34m(\u001b[0m\u001b[0;34m)\u001b[0m\u001b[0;34m\u001b[0m\u001b[0;34m\u001b[0m\u001b[0m\n\u001b[0m",
      "\u001b[0;31mNameError\u001b[0m: name 'sfo_dashboard' is not defined"
     ]
    }
   ],
   "source": [
    "sfo_dashboard.servable()"
   ]
  },
  {
   "cell_type": "code",
   "execution_count": null,
   "metadata": {},
   "outputs": [],
   "source": []
  }
 ],
 "metadata": {
  "file_extension": ".py",
  "kernelspec": {
   "display_name": "pyvizenv",
   "language": "python",
   "name": "pyvizenv"
  },
  "language_info": {
   "codemirror_mode": {
    "name": "ipython",
    "version": 3
   },
   "file_extension": ".py",
   "mimetype": "text/x-python",
   "name": "python",
   "nbconvert_exporter": "python",
   "pygments_lexer": "ipython3",
   "version": "3.7.7"
  },
  "mimetype": "text/x-python",
  "name": "python",
  "npconvert_exporter": "python",
  "pygments_lexer": "ipython3",
  "version": 3
 },
 "nbformat": 4,
 "nbformat_minor": 4
}
